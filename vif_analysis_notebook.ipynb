{
 "cells": [
  {
   "cell_type": "markdown",
   "id": "95c41440",
   "metadata": {},
   "source": [
    "# VIF Analysis for SARIMAX Model Features\n",
    "This notebook performs Variance Inflation Factor (VIF) analysis to address multicollinearity in the feature set used for SARIMAX modeling."
   ]
  },
  {
   "cell_type": "code",
   "execution_count": null,
   "id": "18168315",
   "metadata": {},
   "outputs": [],
   "source": [
    "# Import Required Libraries\n",
    "import pandas as pd\n",
    "import numpy as np\n",
    "from statsmodels.stats.outliers_influence import variance_inflation_factor\n",
    "import seaborn as sns\n",
    "import matplotlib.pyplot as plt"
   ]
  },
  {
   "cell_type": "markdown",
   "id": "0e8e452e",
   "metadata": {},
   "source": [
    "# Load and Prepare Data\n",
    "Load the dataset containing exogenous predictors from the previous SARIMAX model."
   ]
  },
  {
   "cell_type": "code",
   "execution_count": null,
   "id": "54f34d82",
   "metadata": {},
   "outputs": [],
   "source": [
    "# Load the dataset\n",
    "# Assuming the data is stored in a CSV file\n",
    "data = pd.read_csv('sarimax_features.csv')\n",
    "print(\"Dataset shape:\", data.shape)\n",
    "print(\"\\nFeatures in dataset:\")\n",
    "print(data.columns.tolist())"
   ]
  },
  {
   "cell_type": "markdown",
   "id": "99cd0a5d",
   "metadata": {},
   "source": [
    "# Calculate Variance Inflation Factor (VIF)\n",
    "Calculate VIF for each predictor to identify multicollinearity."
   ]
  },
  {
   "cell_type": "code",
   "execution_count": null,
   "id": "dcddde0a",
   "metadata": {},
   "outputs": [],
   "source": [
    "def calculate_vif(X):\n",
    "    vif_data = pd.DataFrame()\n",
    "    vif_data[\"Feature\"] = X.columns\n",
    "    vif_data[\"VIF\"] = [variance_inflation_factor(X.values, i)\n",
    "                       for i in range(X.shape[1])]\n",
    "    return vif_data.sort_values('VIF', ascending=False)\n",
    "\n",
    "# Calculate initial VIF values\n",
    "X = data.select_dtypes(include=[np.number])  # Select only numeric columns\n",
    "initial_vif = calculate_vif(X)\n",
    "print(\"Initial VIF values:\")\n",
    "print(initial_vif)"
   ]
  },
  {
   "cell_type": "markdown",
   "id": "12a551ce",
   "metadata": {},
   "source": [
    "# Identify High VIF Features\n",
    "Identify features with VIF scores above the threshold of 10."
   ]
  },
  {
   "cell_type": "code",
   "execution_count": null,
   "id": "06db54cb",
   "metadata": {},
   "outputs": [],
   "source": [
    "VIF_THRESHOLD = 10\n",
    "\n",
    "high_vif_features = initial_vif[initial_vif['VIF'] > VIF_THRESHOLD]\n",
    "print(\"Features with VIF > {}:\".format(VIF_THRESHOLD))\n",
    "print(high_vif_features)\n",
    "\n",
    "# Visualize VIF scores\n",
    "plt.figure(figsize=(10, 6))\n",
    "sns.barplot(data=initial_vif, x='Feature', y='VIF')\n",
    "plt.xticks(rotation=45)\n",
    "plt.title('VIF Scores for All Features')\n",
    "plt.show()"
   ]
  },
  {
   "cell_type": "markdown",
   "id": "ec18d641",
   "metadata": {},
   "source": [
    "# Iterative Feature Removal\n",
    "Iteratively remove features with high VIF scores until all remaining features have VIF < 10."
   ]
  },
  {
   "cell_type": "code",
   "execution_count": null,
   "id": "fbaecbb7",
   "metadata": {},
   "outputs": [],
   "source": [
    "def iterative_vif_removal(X, threshold=10):\n",
    "    features = list(X.columns)\n",
    "    removed_features = []\n",
    "    \n",
    "    while True:\n",
    "        vif = calculate_vif(X)\n",
    "        max_vif = vif['VIF'].max()\n",
    "        \n",
    "        if max_vif < threshold:\n",
    "            break\n",
    "            \n",
    "        feature_to_remove = vif.loc[vif['VIF'] == max_vif, 'Feature'].iloc[0]\n",
    "        removed_features.append((feature_to_remove, max_vif))\n",
    "        features.remove(feature_to_remove)\n",
    "        X = X[features]\n",
    "    \n",
    "    return X, removed_features\n",
    "\n",
    "# Perform iterative VIF removal\n",
    "X_final, removed_features = iterative_vif_removal(X, VIF_THRESHOLD)"
   ]
  },
  {
   "cell_type": "markdown",
   "id": "d6630654",
   "metadata": {},
   "source": [
    "# Report Final Feature Set\n",
    "Display the final set of features with their VIF scores, suitable for SARIMAX modeling."
   ]
  },
  {
   "cell_type": "code",
   "execution_count": null,
   "id": "d405df5f",
   "metadata": {},
   "outputs": [],
   "source": [
    "# Calculate final VIF scores\n",
    "final_vif = calculate_vif(X_final)\n",
    "\n",
    "print(\"Removed features and their VIF scores:\")\n",
    "for feature, vif in removed_features:\n",
    "    print(f\"{feature}: {vif:.2f}\")\n",
    "\n",
    "print(\"\\nFinal feature set with VIF scores:\")\n",
    "print(final_vif)\n",
    "\n",
    "# Save final feature set\n",
    "final_features = X_final.columns.tolist()\n",
    "pd.DataFrame({'features': final_features}).to_csv('final_sarimax_features.csv', index=False)\n",
    "print(\"\\nFinal features saved to 'final_sarimax_features.csv'\")"
   ]
  }
 ],
 "metadata": {
  "language_info": {
   "name": "python"
  }
 },
 "nbformat": 4,
 "nbformat_minor": 5
}
