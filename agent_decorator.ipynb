{
 "cells": [
  {
   "cell_type": "markdown",
   "id": "5c0b7e0c",
   "metadata": {},
   "source": [
    "# Implementing an @agent Decorator with Iteration Control\n",
    "\n",
    "This notebook demonstrates the implementation of a Python decorator that adds iterative behavior to functions with user-controlled continuation."
   ]
  },
  {
   "cell_type": "markdown",
   "id": "0767b11b",
   "metadata": {},
   "source": [
    "## Define the `@agent` Decorator\n",
    "\n",
    "First, we'll create a decorator that can wrap functions and add iterative behavior."
   ]
  },
  {
   "cell_type": "code",
   "execution_count": null,
   "id": "387ea661",
   "metadata": {},
   "outputs": [],
   "source": [
    "from functools import wraps\n",
    "\n",
    "def agent(func):\n",
    "    @wraps(func)\n",
    "    def wrapper(*args, **kwargs):\n",
    "        while True:\n",
    "            # Execute the wrapped function\n",
    "            result = func(*args, **kwargs)\n",
    "            \n",
    "            # Ask for continuation\n",
    "            response = input(\"Continue to iterate? (y/n): \").lower()\n",
    "            if response != 'y':\n",
    "                break\n",
    "                \n",
    "        return result\n",
    "    return wrapper"
   ]
  },
  {
   "cell_type": "markdown",
   "id": "6ba61a77",
   "metadata": {},
   "source": [
    "## Test the Decorator with a Sample Function\n",
    "\n",
    "Let's create a simple function to demonstrate the decorator's functionality."
   ]
  },
  {
   "cell_type": "code",
   "execution_count": null,
   "id": "ed8eba42",
   "metadata": {},
   "outputs": [],
   "source": [
    "@agent\n",
    "def process_step(step_number):\n",
    "    \"\"\"A sample function that simulates a processing step.\"\"\"\n",
    "    print(f\"Processing step {step_number}...\")\n",
    "    return step_number + 1\n",
    "\n",
    "# Test the decorated function\n",
    "current_step = 1\n",
    "current_step = process_step(current_step)"
   ]
  },
  {
   "cell_type": "markdown",
   "id": "0fccf2c9",
   "metadata": {},
   "source": [
    "## Enhanced Version with Error Handling\n",
    "\n",
    "Let's improve the decorator with proper error handling and input validation."
   ]
  },
  {
   "cell_type": "code",
   "execution_count": null,
   "id": "a8645802",
   "metadata": {},
   "outputs": [],
   "source": [
    "def agent(func):\n",
    "    @wraps(func)\n",
    "    def wrapper(*args, **kwargs):\n",
    "        iteration = 1\n",
    "        while True:\n",
    "            try:\n",
    "                print(f\"\\nIteration {iteration}\")\n",
    "                result = func(*args, **kwargs)\n",
    "                \n",
    "                while True:\n",
    "                    response = input(\"Continue to iterate? (y/n): \").lower().strip()\n",
    "                    if response in ['y', 'n']:\n",
    "                        break\n",
    "                    print(\"Please enter 'y' for yes or 'n' for no.\")\n",
    "                \n",
    "                if response == 'n':\n",
    "                    return result\n",
    "                \n",
    "                iteration += 1\n",
    "                args = (result,) + args[1:]  # Update first argument with result\n",
    "                \n",
    "            except KeyboardInterrupt:\n",
    "                print(\"\\nProcess interrupted by user.\")\n",
    "                break\n",
    "            except Exception as e:\n",
    "                print(f\"An error occurred: {e}\")\n",
    "                break\n",
    "                \n",
    "        return result\n",
    "    return wrapper"
   ]
  },
  {
   "cell_type": "markdown",
   "id": "b749fabb",
   "metadata": {},
   "source": [
    "## Test with Multiple Example Functions\n",
    "\n",
    "Let's test the improved decorator with different types of functions."
   ]
  },
  {
   "cell_type": "code",
   "execution_count": null,
   "id": "371464db",
   "metadata": {},
   "outputs": [],
   "source": [
    "# Example 1: Number processing\n",
    "@agent\n",
    "def increment_number(n):\n",
    "    \"\"\"Incrementally process a number.\"\"\"\n",
    "    print(f\"Current value: {n}\")\n",
    "    return n + 1\n",
    "\n",
    "# Example 2: String processing\n",
    "@agent\n",
    "def extend_string(text):\n",
    "    \"\"\"Gradually build a string.\"\"\"\n",
    "    new_text = text + \"🚀\"\n",
    "    print(f\"Current string: {new_text}\")\n",
    "    return new_text\n",
    "\n",
    "# Test the functions\n",
    "print(\"Testing increment_number:\")\n",
    "result1 = increment_number(1)\n",
    "\n",
    "print(\"\\nTesting extend_string:\")\n",
    "result2 = extend_string(\"Hello \")"
   ]
  },
  {
   "cell_type": "markdown",
   "id": "7959c22a",
   "metadata": {},
   "source": [
    "## Conclusion\n",
    "\n",
    "The `@agent` decorator successfully implements:\n",
    "- Function wrapping with iteration control\n",
    "- User prompts for continuation\n",
    "- Error handling and input validation\n",
    "- Preservation of function metadata\n",
    "- Support for different types of functions and return values"
   ]
  }
 ],
 "metadata": {
  "language_info": {
   "name": "python"
  }
 },
 "nbformat": 4,
 "nbformat_minor": 5
}
