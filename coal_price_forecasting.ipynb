{
 "cells": [
  {
   "cell_type": "markdown",
   "id": "ce9558f0",
   "metadata": {},
   "source": [
    "# Coal Price Forecasting Framework\n",
    "\n",
    "This notebook demonstrates the implementation and testing of our coal price forecasting framework.\n",
    "We'll go through:\n",
    "1. Data loading and preprocessing\n",
    "2. Feature engineering\n",
    "3. Model training and evaluation\n",
    "4. Forecasting and analysis"
   ]
  },
  {
   "cell_type": "code",
   "execution_count": null,
   "id": "610c2ea1",
   "metadata": {},
   "outputs": [],
   "source": [
    "import os\n",
    "import sys\n",
    "import pandas as pd\n",
    "import numpy as np\n",
    "from datetime import datetime\n",
    "import matplotlib.pyplot as plt\n",
    "from sklearn.metrics import mean_squared_error, mean_absolute_error, r2_score\n",
    "\n",
    "# Add project root to Python path\n",
    "PROJECT_ROOT = os.path.dirname(os.path.abspath('.'))\n",
    "sys.path.append(PROJECT_ROOT)\n",
    "\n",
    "# Import our modules\n",
    "from src.utils.logging_config import setup_logging, load_config, CONFIG_PATH\n",
    "from src.data_processing.data_processor import DataProcessor\n",
    "from src.modeling.ml_ensemble import MLEnsemble"
   ]
  },
  {
   "cell_type": "code",
   "execution_count": null,
   "id": "ea9ed167",
   "metadata": {},
   "outputs": [],
   "source": [
    "# Set up logging and load configuration\n",
    "setup_logging()\n",
    "config = load_config(CONFIG_PATH)\n",
    "\n",
    "if config is None:\n",
    "    raise ValueError(\"Failed to load configuration\")\n",
    "\n",
    "print(\"Configuration loaded successfully\")"
   ]
  },
  {
   "cell_type": "markdown",
   "id": "a81b4f63",
   "metadata": {},
   "source": [
    "## 1. Load and Process Sample Data\n",
    "\n",
    "For initial testing, we'll create some sample data that mimics our expected data structure."
   ]
  },
  {
   "cell_type": "code",
   "execution_count": null,
   "id": "f4bb4db1",
   "metadata": {},
   "outputs": [],
   "source": [
    "# Create sample data\n",
    "dates = pd.date_range(start='2020-01-01', end='2024-01-01', freq='M')\n",
    "np.random.seed(config['project_settings']['random_seed'])\n",
    "\n",
    "# Create sample price and feature data\n",
    "sample_data = pd.DataFrame({\n",
    "    'Date': dates,\n",
    "    'Newcastle_FOB_6000_NAR': 100 + np.random.normal(0, 15, len(dates)) + np.linspace(0, 30, len(dates)),\n",
    "    'Henry_Hub_Spot': 3 + np.random.normal(0, 0.5, len(dates)) + np.sin(np.linspace(0, 4*np.pi, len(dates))),\n",
    "    'EUA_Carbon_Futures': 25 + np.random.normal(0, 3, len(dates)) + np.linspace(0, 15, len(dates)),\n",
    "    'Baltic_Dry_Index': 1500 + np.random.normal(0, 200, len(dates)) * np.sin(np.linspace(0, 8*np.pi, len(dates))),\n",
    "    'China_Manufacturing_PMI': 50 + np.random.normal(0, 1, len(dates))\n",
    "})\n",
    "\n",
    "sample_data.set_index('Date', inplace=True)\n",
    "sample_data.head()"
   ]
  },
  {
   "cell_type": "code",
   "execution_count": null,
   "id": "0da9a98d",
   "metadata": {},
   "outputs": [],
   "source": [
    "# Initialize data processor\n",
    "data_processor = DataProcessor(config)\n",
    "data_processor.data = sample_data.copy()\n",
    "\n",
    "# Process the data\n",
    "data_processor.clean_data()\n",
    "data_processor.create_features()\n",
    "data_processor.transform_data()\n",
    "\n",
    "processed_data = data_processor.data.copy()\n",
    "print(\"Features created:\", processed_data.columns.tolist())"
   ]
  },
  {
   "cell_type": "markdown",
   "id": "5b814224",
   "metadata": {},
   "source": [
    "## 2. Train-Test Split and Model Training"
   ]
  },
  {
   "cell_type": "code",
   "execution_count": null,
   "id": "0550311c",
   "metadata": {},
   "outputs": [],
   "source": [
    "# Split data into training and testing\n",
    "train_end = pd.Timestamp(config['modeling']['train_end_date'])\n",
    "train_data = processed_data[processed_data.index <= train_end]\n",
    "test_data = processed_data[processed_data.index > train_end]\n",
    "\n",
    "# Prepare features and target\n",
    "X_train, y_train = data_processor.prepare_data(train_data)\n",
    "X_test, y_test = data_processor.prepare_data(test_data)\n",
    "\n",
    "print(f\"Training data shape: {X_train.shape}\")\n",
    "print(f\"Testing data shape: {X_test.shape}\")"
   ]
  },
  {
   "cell_type": "code",
   "execution_count": null,
   "id": "ef3e3f49",
   "metadata": {},
   "outputs": [],
   "source": [
    "def calculate_metrics(y_true, y_pred):\n",
    "    \"\"\"\n",
    "    Calculate various evaluation metrics\n",
    "    \"\"\"\n",
    "    metrics = {\n",
    "        'RMSE': np.sqrt(mean_squared_error(y_true, y_pred)),\n",
    "        'MAE': mean_absolute_error(y_true, y_pred),\n",
    "        'MAPE': np.mean(np.abs((y_true - y_pred) / y_true)) * 100\n",
    "    }\n",
    "    return metrics\n",
    "\n",
    "def plot_forecast_vs_actual(y_true, y_pred, title='Forecast vs Actual'):\n",
    "    \"\"\"\n",
    "    Plot forecasted values against actual values\n",
    "    \"\"\"\n",
    "    fig = go.Figure()\n",
    "    fig.add_trace(go.Scatter(y=y_true, name='Actual'))\n",
    "    fig.add_trace(go.Scatter(y=y_pred, name='Forecast'))\n",
    "    fig.update_layout(title=title)\n",
    "    fig.show()"
   ]
  }
 ],
 "metadata": {
  "language_info": {
   "name": "python"
  }
 },
 "nbformat": 4,
 "nbformat_minor": 5
}
