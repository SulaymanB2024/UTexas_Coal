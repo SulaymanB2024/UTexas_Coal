{
 "cells": [
  {
   "cell_type": "markdown",
   "id": "4ae7695d",
   "metadata": {},
   "source": [
    "# Feature Refinement Using Variance Inflation Factor (VIF)\n",
    "\n",
    "This notebook focuses on refining the feature set by calculating and addressing multicollinearity using VIF before re-specifying the SARIMAX model."
   ]
  },
  {
   "cell_type": "code",
   "execution_count": null,
   "id": "43b3d669",
   "metadata": {},
   "outputs": [],
   "source": [
    "# Import Required Libraries\n",
    "import pandas as pd\n",
    "import numpy as np\n",
    "from statsmodels.stats.outliers_influence import variance_inflation_factor\n",
    "from statsmodels.tools.tools import add_constant\n",
    "import warnings\n",
    "warnings.filterwarnings('ignore')"
   ]
  },
  {
   "cell_type": "markdown",
   "id": "d5a60c66",
   "metadata": {},
   "source": [
    "# Load and Prepare Data\n",
    "\n",
    "Load the dataset containing exogenous predictors from the previous SARIMAX model."
   ]
  },
  {
   "cell_type": "code",
   "execution_count": null,
   "id": "39302252",
   "metadata": {},
   "outputs": [],
   "source": [
    "# Load the dataset\n",
    "# Assuming the data is saved in a CSV file\n",
    "df = pd.read_csv('path_to_your_data.csv')\n",
    "\n",
    "# Display the first few rows and basic information\n",
    "print(\"Dataset Overview:\")\n",
    "print(df.head())\n",
    "print(\"\\nDataset Info:\")\n",
    "print(df.info())"
   ]
  },
  {
   "cell_type": "markdown",
   "id": "3cb1faed",
   "metadata": {},
   "source": [
    "# Calculate Variance Inflation Factor (VIF)\n",
    "\n",
    "Calculate VIF scores for each predictor to identify multicollinearity."
   ]
  },
  {
   "cell_type": "code",
   "execution_count": null,
   "id": "02f36c3b",
   "metadata": {},
   "outputs": [],
   "source": [
    "def calculate_vif(X):\n",
    "    \"\"\"\n",
    "    Calculate VIF for each feature in the dataset\n",
    "    \n",
    "    Parameters:\n",
    "    X (pd.DataFrame): Features dataframe\n",
    "    \n",
    "    Returns:\n",
    "    pd.DataFrame: VIF scores for each feature\n",
    "    \"\"\"\n",
    "    vif_data = pd.DataFrame()\n",
    "    vif_data[\"Feature\"] = X.columns\n",
    "    vif_data[\"VIF\"] = [variance_inflation_factor(X.values, i) \n",
    "                       for i in range(X.shape[1])]\n",
    "    return vif_data.sort_values('VIF', ascending=False)\n",
    "\n",
    "# Select only numeric columns for VIF calculation\n",
    "numeric_features = df.select_dtypes(include=[np.number]).columns\n",
    "X = df[numeric_features]\n",
    "\n",
    "# Calculate initial VIF scores\n",
    "vif_scores = calculate_vif(X)\n",
    "print(\"Initial VIF Scores:\")\n",
    "print(vif_scores)"
   ]
  },
  {
   "cell_type": "markdown",
   "id": "fd9a0a1f",
   "metadata": {},
   "source": [
    "# Identify High VIF Features\n",
    "\n",
    "Identify features with VIF scores above the threshold (10)."
   ]
  },
  {
   "cell_type": "code",
   "execution_count": null,
   "id": "23a60f27",
   "metadata": {},
   "outputs": [],
   "source": [
    "# Set VIF threshold\n",
    "VIF_THRESHOLD = 10\n",
    "\n",
    "# Identify features with high VIF\n",
    "high_vif_features = vif_scores[vif_scores['VIF'] > VIF_THRESHOLD]\n",
    "print(\"Features with VIF > {}:\".format(VIF_THRESHOLD))\n",
    "print(high_vif_features)"
   ]
  },
  {
   "cell_type": "markdown",
   "id": "71bd22b9",
   "metadata": {},
   "source": [
    "# Iterative Feature Removal\n",
    "\n",
    "Implement iterative process to remove features with high VIF scores."
   ]
  },
  {
   "cell_type": "code",
   "execution_count": null,
   "id": "c74bb876",
   "metadata": {},
   "outputs": [],
   "source": [
    "def iterative_vif_removal(X, threshold=10):\n",
    "    \"\"\"\n",
    "    Iteratively remove features with highest VIF until all features have VIF below threshold\n",
    "    \n",
    "    Parameters:\n",
    "    X (pd.DataFrame): Features dataframe\n",
    "    threshold (float): VIF threshold\n",
    "    \n",
    "    Returns:\n",
    "    list: Features to keep\n",
    "    \"\"\"\n",
    "    features = X.columns.tolist()\n",
    "    while True:\n",
    "        vif = calculate_vif(X[features])\n",
    "        max_vif = vif['VIF'].max()\n",
    "        \n",
    "        if max_vif < threshold:\n",
    "            break\n",
    "            \n",
    "        max_feature = vif.loc[vif['VIF'].idxmax(), 'Feature']\n",
    "        features.remove(max_feature)\n",
    "        print(f\"Removed {max_feature} with VIF: {max_vif:.2f}\")\n",
    "    \n",
    "    return features\n",
    "\n",
    "# Perform iterative VIF removal\n",
    "final_features = iterative_vif_removal(X, VIF_THRESHOLD)"
   ]
  },
  {
   "cell_type": "markdown",
   "id": "9281b61c",
   "metadata": {},
   "source": [
    "# Report Final Feature Set\n",
    "\n",
    "Display the final set of features with their VIF scores."
   ]
  },
  {
   "cell_type": "code",
   "execution_count": null,
   "id": "f5f42b87",
   "metadata": {},
   "outputs": [],
   "source": [
    "# Calculate final VIF scores\n",
    "final_vif = calculate_vif(X[final_features])\n",
    "\n",
    "print(\"Final Feature Set with VIF Scores:\")\n",
    "print(final_vif)\n",
    "\n",
    "print(\"\\nNumber of features removed:\", len(numeric_features) - len(final_features))\n",
    "print(\"Number of features retained:\", len(final_features))\n",
    "print(\"\\nFinal features to use in SARIMAX model:\")\n",
    "for feature in final_features:\n",
    "    print(f\"- {feature}\")"
   ]
  }
 ],
 "metadata": {
  "language_info": {
   "name": "python"
  }
 },
 "nbformat": 4,
 "nbformat_minor": 5
}
