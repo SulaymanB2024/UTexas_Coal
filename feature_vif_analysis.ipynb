{
 "cells": [
  {
   "cell_type": "markdown",
   "id": "c18892f0",
   "metadata": {},
   "source": [
    "# Feature Selection Using Variance Inflation Factor (VIF)\n",
    "This notebook implements a systematic approach to refine the feature set by identifying and addressing multicollinearity using Variance Inflation Factor (VIF) analysis."
   ]
  },
  {
   "cell_type": "markdown",
   "id": "658d44a5",
   "metadata": {},
   "source": [
    "## Import Required Libraries\n",
    "Import necessary libraries for VIF calculation and data manipulation."
   ]
  },
  {
   "cell_type": "code",
   "execution_count": null,
   "id": "6276ec97",
   "metadata": {},
   "outputs": [],
   "source": [
    "import pandas as pd\n",
    "import numpy as np\n",
    "from statsmodels.stats.outliers_influence import variance_inflation_factor\n",
    "import warnings\n",
    "warnings.filterwarnings('ignore')"
   ]
  },
  {
   "cell_type": "markdown",
   "id": "204ac2f0",
   "metadata": {},
   "source": [
    "## Load and Prepare Data\n",
    "Load the dataset containing the exogenous predictors from the previous SARIMAX model."
   ]
  },
  {
   "cell_type": "code",
   "execution_count": null,
   "id": "c4892a36",
   "metadata": {},
   "outputs": [],
   "source": [
    "# Load the dataset\n",
    "# Assuming the data is saved in a CSV file\n",
    "df = pd.read_csv('preprocessed_data.csv')\n",
    "\n",
    "# Display the first few rows and basic information\n",
    "print(\"Dataset Shape:\", df.shape)\n",
    "print(\"\\nFirst few rows:\")\n",
    "display(df.head())"
   ]
  },
  {
   "cell_type": "markdown",
   "id": "3f9c1845",
   "metadata": {},
   "source": [
    "## Calculate Variance Inflation Factor (VIF)\n",
    "Define a function to calculate VIF for all predictors in the dataset."
   ]
  },
  {
   "cell_type": "code",
   "execution_count": null,
   "id": "2ad3add2",
   "metadata": {},
   "outputs": [],
   "source": [
    "def calculate_vif(X):\n",
    "    \"\"\"\n",
    "    Calculate VIF for each feature in the dataset\n",
    "    \n",
    "    Parameters:\n",
    "    X (pd.DataFrame): Features dataframe\n",
    "    \n",
    "    Returns:\n",
    "    pd.DataFrame: DataFrame with feature names and their VIF scores\n",
    "    \"\"\"\n",
    "    vif_data = pd.DataFrame()\n",
    "    vif_data[\"Feature\"] = X.columns\n",
    "    vif_data[\"VIF\"] = [variance_inflation_factor(X.values, i) for i in range(X.shape[1])]\n",
    "    return vif_data.sort_values('VIF', ascending=False)\n",
    "\n",
    "# Calculate initial VIF scores\n",
    "vif_scores = calculate_vif(df)\n",
    "print(\"Initial VIF Scores:\")\n",
    "display(vif_scores)"
   ]
  },
  {
   "cell_type": "markdown",
   "id": "dac5fb57",
   "metadata": {},
   "source": [
    "## Identify High VIF Features\n",
    "Set a threshold and identify features with high multicollinearity."
   ]
  },
  {
   "cell_type": "code",
   "execution_count": null,
   "id": "354c1dd4",
   "metadata": {},
   "outputs": [],
   "source": [
    "# Set VIF threshold\n",
    "VIF_THRESHOLD = 10\n",
    "\n",
    "# Identify features with high VIF\n",
    "high_vif_features = vif_scores[vif_scores['VIF'] > VIF_THRESHOLD]\n",
    "print(f\"Features with VIF > {VIF_THRESHOLD}:\")\n",
    "display(high_vif_features)"
   ]
  },
  {
   "cell_type": "markdown",
   "id": "d94c3214",
   "metadata": {},
   "source": [
    "## Iterative Feature Removal\n",
    "Implement iterative removal of high VIF features until all remaining features have VIF below the threshold."
   ]
  },
  {
   "cell_type": "code",
   "execution_count": null,
   "id": "d4d5f3f5",
   "metadata": {},
   "outputs": [],
   "source": [
    "def iterative_vif_removal(data, threshold=10):\n",
    "    \"\"\"\n",
    "    Iteratively remove features with highest VIF until all features have VIF below threshold\n",
    "    \n",
    "    Parameters:\n",
    "    data (pd.DataFrame): Input features\n",
    "    threshold (float): VIF threshold for feature removal\n",
    "    \n",
    "    Returns:\n",
    "    pd.DataFrame: DataFrame with remaining features\n",
    "    list: List of removed features\n",
    "    \"\"\"\n",
    "    X = data.copy()\n",
    "    removed_features = []\n",
    "    \n",
    "    while True:\n",
    "        vif = calculate_vif(X)\n",
    "        max_vif = vif['VIF'].max()\n",
    "        \n",
    "        if max_vif < threshold:\n",
    "            break\n",
    "            \n",
    "        feature_to_remove = vif.loc[vif['VIF'] == max_vif, 'Feature'].iloc[0]\n",
    "        removed_features.append((feature_to_remove, max_vif))\n",
    "        X = X.drop(feature_to_remove, axis=1)\n",
    "        \n",
    "        print(f\"Removed {feature_to_remove} with VIF: {max_vif:.2f}\")\n",
    "    \n",
    "    return X, removed_features\n",
    "\n",
    "# Perform iterative VIF removal\n",
    "final_features_df, removed_features = iterative_vif_removal(df, VIF_THRESHOLD)"
   ]
  },
  {
   "cell_type": "markdown",
   "id": "fa405755",
   "metadata": {},
   "source": [
    "## Report Final Feature Set\n",
    "Display the final set of features with their VIF scores."
   ]
  },
  {
   "cell_type": "code",
   "execution_count": null,
   "id": "b5b99faf",
   "metadata": {},
   "outputs": [],
   "source": [
    "# Calculate final VIF scores\n",
    "final_vif_scores = calculate_vif(final_features_df)\n",
    "\n",
    "print(\"Final Feature Set VIF Scores:\")\n",
    "display(final_vif_scores)\n",
    "\n",
    "print(\"\\nSummary:\")\n",
    "print(f\"Original number of features: {df.shape[1]}\")\n",
    "print(f\"Final number of features: {final_features_df.shape[1]}\")\n",
    "print(f\"Number of features removed: {len(removed_features)}\")\n",
    "\n",
    "# Save the final feature set\n",
    "final_features_df.to_csv('final_features.csv', index=False)\n",
    "print(\"\\nFinal feature set saved to 'final_features.csv'\")"
   ]
  }
 ],
 "metadata": {
  "language_info": {
   "name": "python"
  }
 },
 "nbformat": 4,
 "nbformat_minor": 5
}
