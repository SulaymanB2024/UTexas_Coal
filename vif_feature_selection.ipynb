{
 "cells": [
  {
   "cell_type": "markdown",
   "id": "8d04ee19",
   "metadata": {},
   "source": [
    "# VIF-Based Feature Selection for SARIMAX Model\n",
    "This notebook performs feature selection using Variance Inflation Factor (VIF) analysis to address multicollinearity in the exogenous predictors for the SARIMAX model."
   ]
  },
  {
   "cell_type": "code",
   "execution_count": null,
   "id": "68f5a7ad",
   "metadata": {},
   "outputs": [],
   "source": [
    "# Import Required Libraries\n",
    "import pandas as pd\n",
    "import numpy as np\n",
    "from statsmodels.stats.outliers_influence import variance_inflation_factor\n",
    "from pathlib import Path\n",
    "import warnings\n",
    "warnings.filterwarnings('ignore')"
   ]
  },
  {
   "cell_type": "markdown",
   "id": "a17bfa97",
   "metadata": {},
   "source": [
    "# Load and Prepare Data\n",
    "Load the dataset containing exogenous predictors from our previous SARIMAX analysis."
   ]
  },
  {
   "cell_type": "code",
   "execution_count": null,
   "id": "22734a38",
   "metadata": {},
   "outputs": [],
   "source": [
    "# Load the dataset\n",
    "# Assuming the data is stored in a CSV file\n",
    "data_path = Path('data/processed/exog_predictors.csv')\n",
    "df = pd.read_csv(data_path, index_col=0, parse_dates=True)\n",
    "\n",
    "print(\"Dataset shape:\", df.shape)\n",
    "print(\"\\nFeatures available:\", df.columns.tolist())"
   ]
  },
  {
   "cell_type": "markdown",
   "id": "a3476515",
   "metadata": {},
   "source": [
    "# Calculate Variance Inflation Factor (VIF)\n",
    "Calculate VIF scores for all predictors in the dataset."
   ]
  },
  {
   "cell_type": "code",
   "execution_count": null,
   "id": "07fcba85",
   "metadata": {},
   "outputs": [],
   "source": [
    "def calculate_vif(X):\n",
    "    \"\"\"\n",
    "    Calculate VIF for each feature in the dataset\n",
    "    \n",
    "    Parameters:\n",
    "    X (pd.DataFrame): Features dataframe\n",
    "    \n",
    "    Returns:\n",
    "    pd.DataFrame: VIF scores for each feature\n",
    "    \"\"\"\n",
    "    vif_data = pd.DataFrame()\n",
    "    vif_data[\"Feature\"] = X.columns\n",
    "    vif_data[\"VIF\"] = [variance_inflation_factor(X.values, i) \n",
    "                       for i in range(X.shape[1])]\n",
    "    return vif_data.sort_values('VIF', ascending=False)\n",
    "\n",
    "# Calculate initial VIF scores\n",
    "vif_scores = calculate_vif(df)\n",
    "print(\"Initial VIF Scores:\")\n",
    "print(vif_scores)"
   ]
  },
  {
   "cell_type": "markdown",
   "id": "9e7cca08",
   "metadata": {},
   "source": [
    "# Identify High VIF Features\n",
    "Identify features with VIF scores above our threshold of 10."
   ]
  },
  {
   "cell_type": "code",
   "execution_count": null,
   "id": "580594e5",
   "metadata": {},
   "outputs": [],
   "source": [
    "VIF_THRESHOLD = 10\n",
    "\n",
    "# Identify features with high VIF\n",
    "high_vif_features = vif_scores[vif_scores['VIF'] > VIF_THRESHOLD]\n",
    "print(\"Features with VIF > 10:\")\n",
    "print(high_vif_features)"
   ]
  },
  {
   "cell_type": "markdown",
   "id": "f66169d6",
   "metadata": {},
   "source": [
    "# Iterative Feature Removal\n",
    "Iteratively remove features with the highest VIF scores until all remaining features have VIF < 10."
   ]
  },
  {
   "cell_type": "code",
   "execution_count": null,
   "id": "e56c8f15",
   "metadata": {},
   "outputs": [],
   "source": [
    "def iterative_vif_selection(X, threshold=10):\n",
    "    \"\"\"\n",
    "    Iteratively remove features with highest VIF until all features have VIF < threshold\n",
    "    \n",
    "    Parameters:\n",
    "    X (pd.DataFrame): Features dataframe\n",
    "    threshold (float): VIF threshold for feature removal\n",
    "    \n",
    "    Returns:\n",
    "    pd.DataFrame: DataFrame with selected features\n",
    "    list: Removed features\n",
    "    \"\"\"\n",
    "    features = X.columns.tolist()\n",
    "    removed_features = []\n",
    "    \n",
    "    while True:\n",
    "        vif = calculate_vif(X[features])\n",
    "        max_vif = vif['VIF'].max()\n",
    "        \n",
    "        if max_vif < threshold:\n",
    "            break\n",
    "            \n",
    "        max_vif_feature = vif.loc[vif['VIF'] == max_vif, 'Feature'].iloc[0]\n",
    "        features.remove(max_vif_feature)\n",
    "        removed_features.append(max_vif_feature)\n",
    "        \n",
    "        print(f\"Removed {max_vif_feature} with VIF: {max_vif:.2f}\")\n",
    "    \n",
    "    return X[features], removed_features\n",
    "\n",
    "# Perform iterative VIF selection\n",
    "final_df, removed_features = iterative_vif_selection(df, VIF_THRESHOLD)"
   ]
  },
  {
   "cell_type": "markdown",
   "id": "c9317d76",
   "metadata": {},
   "source": [
    "# Report Final Feature Set\n",
    "Display the final set of features with their VIF scores after removing multicollinear features."
   ]
  },
  {
   "cell_type": "code",
   "execution_count": null,
   "id": "165efb86",
   "metadata": {},
   "outputs": [],
   "source": [
    "# Calculate final VIF scores\n",
    "final_vif_scores = calculate_vif(final_df)\n",
    "\n",
    "print(\"Final VIF Scores:\")\n",
    "print(final_vif_scores)\n",
    "\n",
    "print(\"\\nNumber of features retained:\", len(final_df.columns))\n",
    "print(\"Number of features removed:\", len(removed_features))\n",
    "print(\"\\nRemoved features:\", removed_features)\n",
    "\n",
    "# Save the final feature set\n",
    "final_df.to_csv('data/processed/vif_selected_features.csv')"
   ]
  },
  {
   "cell_type": "markdown",
   "id": "a3b0daaf",
   "metadata": {},
   "source": [
    "# VIF-Based Feature Selection for SARIMAX Model\n",
    "\n",
    "This notebook implements feature selection using Variance Inflation Factor (VIF) to address multicollinearity in our SARIMAX model's exogenous predictors."
   ]
  },
  {
   "cell_type": "code",
   "execution_count": null,
   "id": "b5381332",
   "metadata": {},
   "outputs": [],
   "source": [
    "# Import Required Libraries\n",
    "import pandas as pd\n",
    "import numpy as np\n",
    "from statsmodels.stats.outliers_influence import variance_inflation_factor\n",
    "import matplotlib.pyplot as plt\n",
    "import seaborn as sns"
   ]
  },
  {
   "cell_type": "markdown",
   "id": "35e4d5fe",
   "metadata": {},
   "source": [
    "## Load and Prepare Data\n",
    "Load the dataset containing our exogenous predictors and ensure it's ready for VIF calculation."
   ]
  },
  {
   "cell_type": "code",
   "execution_count": null,
   "id": "9fe2b010",
   "metadata": {},
   "outputs": [],
   "source": [
    "# Load the data\n",
    "# Assuming data is stored in a CSV file\n",
    "df = pd.read_csv('processed_data.csv')\n",
    "df.set_index('date', inplace=True)\n",
    "\n",
    "# Display the first few rows and basic information\n",
    "print(\"Dataset Overview:\")\n",
    "print(df.head())\n",
    "print(\"\\nDataset Info:\")\n",
    "df.info()"
   ]
  },
  {
   "cell_type": "markdown",
   "id": "fdb7f858",
   "metadata": {},
   "source": [
    "## Calculate Variance Inflation Factor (VIF)\n",
    "Calculate VIF for each predictor variable to identify multicollinearity."
   ]
  },
  {
   "cell_type": "code",
   "execution_count": null,
   "id": "583166b6",
   "metadata": {},
   "outputs": [],
   "source": [
    "def calculate_vif(X):\n",
    "    \"\"\"\n",
    "    Calculate VIF for each feature in the dataset\n",
    "    \n",
    "    Parameters:\n",
    "    X (pd.DataFrame): Features dataframe\n",
    "    \n",
    "    Returns:\n",
    "    pd.DataFrame: VIF scores for each feature\n",
    "    \"\"\"\n",
    "    vif_data = pd.DataFrame()\n",
    "    vif_data[\"Feature\"] = X.columns\n",
    "    vif_data[\"VIF\"] = [variance_inflation_factor(X.values, i) \n",
    "                       for i in range(X.shape[1])]\n",
    "    return vif_data.sort_values('VIF', ascending=False)\n",
    "\n",
    "# Calculate initial VIF scores\n",
    "initial_vif = calculate_vif(df)\n",
    "print(\"Initial VIF Scores:\")\n",
    "print(initial_vif)"
   ]
  },
  {
   "cell_type": "markdown",
   "id": "b1436e1a",
   "metadata": {},
   "source": [
    "## Identify High VIF Features\n",
    "Identify features with VIF scores above our threshold of 10."
   ]
  },
  {
   "cell_type": "code",
   "execution_count": null,
   "id": "2fa74506",
   "metadata": {},
   "outputs": [],
   "source": [
    "# Plot VIF scores\n",
    "plt.figure(figsize=(12, 6))\n",
    "sns.barplot(data=initial_vif, x='Feature', y='VIF')\n",
    "plt.xticks(rotation=45)\n",
    "plt.title('VIF Scores for All Features')\n",
    "plt.tight_layout()\n",
    "plt.show()\n",
    "\n",
    "# Identify features with high VIF\n",
    "high_vif_features = initial_vif[initial_vif['VIF'] > 10]\n",
    "print(\"\\nFeatures with VIF > 10:\")\n",
    "print(high_vif_features)"
   ]
  },
  {
   "cell_type": "markdown",
   "id": "00efcc19",
   "metadata": {},
   "source": [
    "## Iterative Feature Removal\n",
    "Implement iterative process to remove features with high VIF scores until all remaining features have VIF < 10."
   ]
  },
  {
   "cell_type": "code",
   "execution_count": null,
   "id": "ed4e6c61",
   "metadata": {},
   "outputs": [],
   "source": [
    "def iterative_vif_selection(data, threshold=10):\n",
    "    \"\"\"\n",
    "    Iteratively remove features with highest VIF until all features have VIF < threshold\n",
    "    \n",
    "    Parameters:\n",
    "    data (pd.DataFrame): Input features\n",
    "    threshold (float): VIF threshold for feature removal\n",
    "    \n",
    "    Returns:\n",
    "    pd.DataFrame: DataFrame with selected features\n",
    "    list: Removed features\n",
    "    \"\"\"\n",
    "    features = data.columns.tolist()\n",
    "    removed_features = []\n",
    "    \n",
    "    while True:\n",
    "        vif = calculate_vif(data[features])\n",
    "        max_vif = vif['VIF'].max()\n",
    "        \n",
    "        if max_vif < threshold:\n",
    "            break\n",
    "            \n",
    "        # Remove feature with highest VIF\n",
    "        feature_to_remove = vif.loc[vif['VIF'].idxmax(), 'Feature']\n",
    "        features.remove(feature_to_remove)\n",
    "        removed_features.append(feature_to_remove)\n",
    "        \n",
    "        print(f\"Removed {feature_to_remove} with VIF: {max_vif:.2f}\")\n",
    "    \n",
    "    return data[features], removed_features\n",
    "\n",
    "# Perform iterative VIF selection\n",
    "final_df, removed_features = iterative_vif_selection(df)"
   ]
  },
  {
   "cell_type": "markdown",
   "id": "6822ec92",
   "metadata": {},
   "source": [
    "## Report Final Feature Set\n",
    "Display the final set of features with their VIF scores, which will be used for re-specifying the SARIMAX model."
   ]
  },
  {
   "cell_type": "code",
   "execution_count": null,
   "id": "804812c3",
   "metadata": {},
   "outputs": [],
   "source": [
    "# Calculate final VIF scores\n",
    "final_vif = calculate_vif(final_df)\n",
    "\n",
    "print(\"Final VIF Scores:\")\n",
    "print(final_vif)\n",
    "\n",
    "print(\"\\nRemoved Features:\")\n",
    "print(removed_features)\n",
    "\n",
    "# Plot final VIF scores\n",
    "plt.figure(figsize=(12, 6))\n",
    "sns.barplot(data=final_vif, x='Feature', y='VIF')\n",
    "plt.xticks(rotation=45)\n",
    "plt.title('VIF Scores for Final Feature Set')\n",
    "plt.tight_layout()\n",
    "plt.show()\n",
    "\n",
    "# Save final feature set\n",
    "final_df.to_csv('vif_selected_features.csv')\n",
    "print(\"\\nFinal feature set saved to 'vif_selected_features.csv'\")"
   ]
  }
 ],
 "metadata": {
  "language_info": {
   "name": "python"
  }
 },
 "nbformat": 4,
 "nbformat_minor": 5
}
